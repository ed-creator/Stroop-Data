{
 "cells": [
  {
   "cell_type": "markdown",
   "metadata": {},
   "source": [
    "1.\n",
    "What is our independent variable? What is our dependent variable?\n",
    "\n",
    "Independent variable = congruent/incongruent words\n",
    "Dependent variable = Time taken to finish the ink color list"
   ]
  },
  {
   "cell_type": "markdown",
   "metadata": {},
   "source": [
    "2.\n",
    "What is an appropriate set of hypotheses for this task? What kind of statistical test do you expect to perform? Justify your choices.\n",
    "\n",
    "Null Hypothesis:\n",
    "There will be no statistical difference in the average population response time between times recorded for congruent or incongruent words.\n",
    "Ho: μ = μ0\n",
    "\n",
    "Alternate Hypothesis:\n",
    "Average population response time will be significantly longer for incongruent words than for congruent words.\n",
    "Ha: μ < μ0\n",
    "\n",
    "Test to use: Dependent t-test\n",
    "Justification & assumptions: \n",
    "1. There is a sample size of 24 paritcipants, since a sample and not the population is being tested it is appropriate to use the t-test and not a z-test\n",
    "2. Participants that have *paired* data since each participant was given each stroop test. This is why the *dependent* test is used\n",
    "3. The sample size is quite small at 24 but is assumed to be normal since it is an assumed random sample from a normal distribution - the below histogram shows not an exact normal distribution however for the purposes of this test we can assume a normal distribution for the sample dispite there being a slight skew.  \n",
    "4. I expect to perform a one tail t-test since only one direction is being tested in the alternate hypothesis.\n",
    "5. A confidence level of 5% will be used"
   ]
  },
  {
   "cell_type": "code",
   "execution_count": 24,
   "metadata": {
    "collapsed": false
   },
   "outputs": [
    {
     "data": {
      "text/plain": [
       "<matplotlib.axes._subplots.AxesSubplot at 0x1144db8d0>"
      ]
     },
     "execution_count": 24,
     "metadata": {},
     "output_type": "execute_result"
    },
    {
     "data": {
      "image/png": "[encoded data removed]",
      "text/plain": [
       "<matplotlib.figure.Figure at 0x1140ba790>"
      ]
     },
     "metadata": {},
     "output_type": "display_data"
    }
   ],
   "source": [
    "stroop_data_difference = stroop_data['Congruent'] - stroop_data['Incongruent']\n",
    "stroop_data_difference.sort_values().hist(bins=12)"
   ]
  },
  {
   "cell_type": "markdown",
   "metadata": {},
   "source": [
    "3.\n",
    "Report some descriptive statistics regarding this dataset. Include at least one measure of central tendency and at least one measure of variability.\n",
    "\n",
    "Mean (difference): -7.964791667\n",
    "\n",
    "S.D.: 4.86482691\n"
   ]
  },
  {
   "cell_type": "markdown",
   "metadata": {},
   "source": [
    "4.\n",
    "Provide one or two visualizations that show the distribution of the sample data. Write one or two sentences noting what you observe about the plot or plots.\n",
    " "
   ]
  },
  {
   "cell_type": "code",
   "execution_count": 1,
   "metadata": {
    "collapsed": false
   },
   "outputs": [
    {
     "name": "stderr",
     "output_type": "stream",
     "text": [
      "/Users/edwardward/anaconda/envs/Python2/lib/python2.7/site-packages/IPython/html.py:14: ShimWarning: The `IPython.html` package has been deprecated. You should import from `notebook` instead. `IPython.html.widgets` has moved to `ipywidgets`.\n",
      "  \"`IPython.html.widgets` has moved to `ipywidgets`.\", ShimWarning)\n"
     ]
    }
   ],
   "source": [
    "import numpy as np\n",
    "import scipy.stats as scp\n",
    "import pandas as pd\n",
    "import matplotlib.pyplot as plt\n",
    "import seaborn as sns\n",
    "%matplotlib inline\n",
    "\n",
    "stroop_data = pd.read_csv('P1/stroopdata.csv')"
   ]
  },
  {
   "cell_type": "code",
   "execution_count": 2,
   "metadata": {
    "collapsed": false,
    "scrolled": true
   },
   "outputs": [
    {
     "data": {
      "image/png": "[encoded data removed]",
      "text/plain": [
       "<matplotlib.figure.Figure at 0x10baa1b90>"
      ]
     },
     "metadata": {},
     "output_type": "display_data"
    }
   ],
   "source": [
    "stroop_data = stroop_data.sort_values('Congruent')\n",
    "stroop_data['Participant'] = range(1,25)\n",
    "\n",
    "x = range(40)\n",
    "y = range(40)\n",
    "fig = plt.figure()\n",
    "ax1 = fig.add_subplot(111)\n",
    "\n",
    "ax1.scatter(stroop_data['Participant'], stroop_data['Congruent'], s=10, c='b', marker=\"s\", label='Congruent')\n",
    "ax1.scatter(stroop_data['Participant'],stroop_data['Incongruent'], s=10, c='r', marker=\"s\", label='Incongruent')\n",
    "plt.legend(loc='upper left')\n",
    "plt.ylabel('Seconds')\n",
    "plt.xlabel('Participant');\n"
   ]
  },
  {
   "cell_type": "markdown",
   "metadata": {},
   "source": [
    "The plot shows a scatter plot of both participants results for both Congruent and Incongruent words. It shows that every participant performed better for Congruent than for Incongruent words. In general there seems to be a trend for Participants who performed better on the Congruent test to also perform better on the Incongruent test.   "
   ]
  },
  {
   "cell_type": "markdown",
   "metadata": {},
   "source": [
    "5.\n",
    "Now, perform the statistical test and report your results. What is your confidence level and your critical statistic value? Do you reject the null hypothesis or fail to reject it? Come to a conclusion in terms of the experiment task. Did the results match up with your expectations?\n",
    "\n",
    "A T value of -8.020706944 was found therefore the null hypothesis is rejected\n",
    "Critical t value of 1.7139 (one tailed at 0.05 alpha\n",
    "Confidence Interval at 95% confidence level: (-5.144423755, -9.253576245)  \n",
    "r squared = 0.736636416\n",
    "\n",
    "The experiment results show that participants are likely to take longer when given incongruent words, there is a (above) 95% confidence level that the results were not due to chance. The data analytics suggests that the 'true value' for the average time difference is somewhere between 5.14 and 9.25 seconds with a 95% confidence level."
   ]
  }
 ],
 "metadata": {
  "anaconda-cloud": {},
  "kernelspec": {
   "display_name": "Python [Python2]",
   "language": "python",
   "name": "Python [Python2]"
  },
  "language_info": {
   "codemirror_mode": {
    "name": "ipython",
    "version": 2
   },
   "file_extension": ".py",
   "mimetype": "text/x-python",
   "name": "python",
   "nbconvert_exporter": "python",
   "pygments_lexer": "ipython2",
   "version": "2.7.12"
  }
 },
 "nbformat": 4,
 "nbformat_minor": 0
}
